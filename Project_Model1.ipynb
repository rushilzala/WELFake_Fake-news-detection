{
  "nbformat": 4,
  "nbformat_minor": 0,
  "metadata": {
    "colab": {
      "provenance": [],
      "gpuType": "T4"
    },
    "kernelspec": {
      "name": "python3",
      "display_name": "Python 3"
    },
    "language_info": {
      "name": "python"
    },
    "accelerator": "GPU",
    "gpuClass": "standard"
  },
  "cells": [
    {
      "cell_type": "code",
      "execution_count": null,
      "metadata": {
        "id": "94Jim5j30fyX"
      },
      "outputs": [],
      "source": [
        "# importing required libraries\n",
        "import numpy as np\n",
        "import pandas as pd\n",
        "import matplotlib.pyplot as plt"
      ]
    },
    {
      "cell_type": "code",
      "source": [
        "# reading data file\n",
        "df = pd.read_csv('/content/drive/MyDrive/Data-NLP/WELFake_Dataset.csv')"
      ],
      "metadata": {
        "id": "moiGPX7B0oYI"
      },
      "execution_count": null,
      "outputs": []
    },
    {
      "cell_type": "code",
      "source": [
        "df.head()"
      ],
      "metadata": {
        "colab": {
          "base_uri": "https://localhost:8080/",
          "height": 206
        },
        "id": "Do9wfO8200xj",
        "outputId": "47b9f94f-9b82-4c4a-ff6d-0994ecec34b6"
      },
      "execution_count": null,
      "outputs": [
        {
          "output_type": "execute_result",
          "data": {
            "text/plain": [
              "   Unnamed: 0                                              title  \\\n",
              "0           0  LAW ENFORCEMENT ON HIGH ALERT Following Threat...   \n",
              "1           1                                                NaN   \n",
              "2           2  UNBELIEVABLE! OBAMA’S ATTORNEY GENERAL SAYS MO...   \n",
              "3           3  Bobby Jindal, raised Hindu, uses story of Chri...   \n",
              "4           4  SATAN 2: Russia unvelis an image of its terrif...   \n",
              "\n",
              "                                                text  label  \n",
              "0  No comment is expected from Barack Obama Membe...      1  \n",
              "1     Did they post their votes for Hillary already?      1  \n",
              "2   Now, most of the demonstrators gathered last ...      1  \n",
              "3  A dozen politically active pastors came here f...      0  \n",
              "4  The RS-28 Sarmat missile, dubbed Satan 2, will...      1  "
            ],
            "text/html": [
              "\n",
              "  <div id=\"df-1c30ca5f-a047-4edc-9b15-ed669a4ed4cf\">\n",
              "    <div class=\"colab-df-container\">\n",
              "      <div>\n",
              "<style scoped>\n",
              "    .dataframe tbody tr th:only-of-type {\n",
              "        vertical-align: middle;\n",
              "    }\n",
              "\n",
              "    .dataframe tbody tr th {\n",
              "        vertical-align: top;\n",
              "    }\n",
              "\n",
              "    .dataframe thead th {\n",
              "        text-align: right;\n",
              "    }\n",
              "</style>\n",
              "<table border=\"1\" class=\"dataframe\">\n",
              "  <thead>\n",
              "    <tr style=\"text-align: right;\">\n",
              "      <th></th>\n",
              "      <th>Unnamed: 0</th>\n",
              "      <th>title</th>\n",
              "      <th>text</th>\n",
              "      <th>label</th>\n",
              "    </tr>\n",
              "  </thead>\n",
              "  <tbody>\n",
              "    <tr>\n",
              "      <th>0</th>\n",
              "      <td>0</td>\n",
              "      <td>LAW ENFORCEMENT ON HIGH ALERT Following Threat...</td>\n",
              "      <td>No comment is expected from Barack Obama Membe...</td>\n",
              "      <td>1</td>\n",
              "    </tr>\n",
              "    <tr>\n",
              "      <th>1</th>\n",
              "      <td>1</td>\n",
              "      <td>NaN</td>\n",
              "      <td>Did they post their votes for Hillary already?</td>\n",
              "      <td>1</td>\n",
              "    </tr>\n",
              "    <tr>\n",
              "      <th>2</th>\n",
              "      <td>2</td>\n",
              "      <td>UNBELIEVABLE! OBAMA’S ATTORNEY GENERAL SAYS MO...</td>\n",
              "      <td>Now, most of the demonstrators gathered last ...</td>\n",
              "      <td>1</td>\n",
              "    </tr>\n",
              "    <tr>\n",
              "      <th>3</th>\n",
              "      <td>3</td>\n",
              "      <td>Bobby Jindal, raised Hindu, uses story of Chri...</td>\n",
              "      <td>A dozen politically active pastors came here f...</td>\n",
              "      <td>0</td>\n",
              "    </tr>\n",
              "    <tr>\n",
              "      <th>4</th>\n",
              "      <td>4</td>\n",
              "      <td>SATAN 2: Russia unvelis an image of its terrif...</td>\n",
              "      <td>The RS-28 Sarmat missile, dubbed Satan 2, will...</td>\n",
              "      <td>1</td>\n",
              "    </tr>\n",
              "  </tbody>\n",
              "</table>\n",
              "</div>\n",
              "      <button class=\"colab-df-convert\" onclick=\"convertToInteractive('df-1c30ca5f-a047-4edc-9b15-ed669a4ed4cf')\"\n",
              "              title=\"Convert this dataframe to an interactive table.\"\n",
              "              style=\"display:none;\">\n",
              "        \n",
              "  <svg xmlns=\"http://www.w3.org/2000/svg\" height=\"24px\"viewBox=\"0 0 24 24\"\n",
              "       width=\"24px\">\n",
              "    <path d=\"M0 0h24v24H0V0z\" fill=\"none\"/>\n",
              "    <path d=\"M18.56 5.44l.94 2.06.94-2.06 2.06-.94-2.06-.94-.94-2.06-.94 2.06-2.06.94zm-11 1L8.5 8.5l.94-2.06 2.06-.94-2.06-.94L8.5 2.5l-.94 2.06-2.06.94zm10 10l.94 2.06.94-2.06 2.06-.94-2.06-.94-.94-2.06-.94 2.06-2.06.94z\"/><path d=\"M17.41 7.96l-1.37-1.37c-.4-.4-.92-.59-1.43-.59-.52 0-1.04.2-1.43.59L10.3 9.45l-7.72 7.72c-.78.78-.78 2.05 0 2.83L4 21.41c.39.39.9.59 1.41.59.51 0 1.02-.2 1.41-.59l7.78-7.78 2.81-2.81c.8-.78.8-2.07 0-2.86zM5.41 20L4 18.59l7.72-7.72 1.47 1.35L5.41 20z\"/>\n",
              "  </svg>\n",
              "      </button>\n",
              "      \n",
              "  <style>\n",
              "    .colab-df-container {\n",
              "      display:flex;\n",
              "      flex-wrap:wrap;\n",
              "      gap: 12px;\n",
              "    }\n",
              "\n",
              "    .colab-df-convert {\n",
              "      background-color: #E8F0FE;\n",
              "      border: none;\n",
              "      border-radius: 50%;\n",
              "      cursor: pointer;\n",
              "      display: none;\n",
              "      fill: #1967D2;\n",
              "      height: 32px;\n",
              "      padding: 0 0 0 0;\n",
              "      width: 32px;\n",
              "    }\n",
              "\n",
              "    .colab-df-convert:hover {\n",
              "      background-color: #E2EBFA;\n",
              "      box-shadow: 0px 1px 2px rgba(60, 64, 67, 0.3), 0px 1px 3px 1px rgba(60, 64, 67, 0.15);\n",
              "      fill: #174EA6;\n",
              "    }\n",
              "\n",
              "    [theme=dark] .colab-df-convert {\n",
              "      background-color: #3B4455;\n",
              "      fill: #D2E3FC;\n",
              "    }\n",
              "\n",
              "    [theme=dark] .colab-df-convert:hover {\n",
              "      background-color: #434B5C;\n",
              "      box-shadow: 0px 1px 3px 1px rgba(0, 0, 0, 0.15);\n",
              "      filter: drop-shadow(0px 1px 2px rgba(0, 0, 0, 0.3));\n",
              "      fill: #FFFFFF;\n",
              "    }\n",
              "  </style>\n",
              "\n",
              "      <script>\n",
              "        const buttonEl =\n",
              "          document.querySelector('#df-1c30ca5f-a047-4edc-9b15-ed669a4ed4cf button.colab-df-convert');\n",
              "        buttonEl.style.display =\n",
              "          google.colab.kernel.accessAllowed ? 'block' : 'none';\n",
              "\n",
              "        async function convertToInteractive(key) {\n",
              "          const element = document.querySelector('#df-1c30ca5f-a047-4edc-9b15-ed669a4ed4cf');\n",
              "          const dataTable =\n",
              "            await google.colab.kernel.invokeFunction('convertToInteractive',\n",
              "                                                     [key], {});\n",
              "          if (!dataTable) return;\n",
              "\n",
              "          const docLinkHtml = 'Like what you see? Visit the ' +\n",
              "            '<a target=\"_blank\" href=https://colab.research.google.com/notebooks/data_table.ipynb>data table notebook</a>'\n",
              "            + ' to learn more about interactive tables.';\n",
              "          element.innerHTML = '';\n",
              "          dataTable['output_type'] = 'display_data';\n",
              "          await google.colab.output.renderOutput(dataTable, element);\n",
              "          const docLink = document.createElement('div');\n",
              "          docLink.innerHTML = docLinkHtml;\n",
              "          element.appendChild(docLink);\n",
              "        }\n",
              "      </script>\n",
              "    </div>\n",
              "  </div>\n",
              "  "
            ]
          },
          "metadata": {},
          "execution_count": 85
        }
      ]
    },
    {
      "cell_type": "code",
      "source": [
        "df.info()"
      ],
      "metadata": {
        "colab": {
          "base_uri": "https://localhost:8080/"
        },
        "id": "CDfD8Y-y1EMF",
        "outputId": "1c134741-5fc4-4101-bb72-33d5731e8154"
      },
      "execution_count": null,
      "outputs": [
        {
          "output_type": "stream",
          "name": "stdout",
          "text": [
            "<class 'pandas.core.frame.DataFrame'>\n",
            "RangeIndex: 72134 entries, 0 to 72133\n",
            "Data columns (total 4 columns):\n",
            " #   Column      Non-Null Count  Dtype \n",
            "---  ------      --------------  ----- \n",
            " 0   Unnamed: 0  72134 non-null  int64 \n",
            " 1   title       71576 non-null  object\n",
            " 2   text        72095 non-null  object\n",
            " 3   label       72134 non-null  int64 \n",
            "dtypes: int64(2), object(2)\n",
            "memory usage: 2.2+ MB\n"
          ]
        }
      ]
    },
    {
      "cell_type": "code",
      "source": [
        "df.columns = [\"id\",\"title\",\"text\",\"label\"]"
      ],
      "metadata": {
        "id": "5bPYEycT1GMq"
      },
      "execution_count": null,
      "outputs": []
    },
    {
      "cell_type": "code",
      "source": [
        "df.head()"
      ],
      "metadata": {
        "colab": {
          "base_uri": "https://localhost:8080/",
          "height": 206
        },
        "id": "hHR77p4P1IVo",
        "outputId": "bed45cfa-217e-48ba-a404-eea8512cb00a"
      },
      "execution_count": null,
      "outputs": [
        {
          "output_type": "execute_result",
          "data": {
            "text/plain": [
              "   id                                              title  \\\n",
              "0   0  LAW ENFORCEMENT ON HIGH ALERT Following Threat...   \n",
              "1   1                                                NaN   \n",
              "2   2  UNBELIEVABLE! OBAMA’S ATTORNEY GENERAL SAYS MO...   \n",
              "3   3  Bobby Jindal, raised Hindu, uses story of Chri...   \n",
              "4   4  SATAN 2: Russia unvelis an image of its terrif...   \n",
              "\n",
              "                                                text  label  \n",
              "0  No comment is expected from Barack Obama Membe...      1  \n",
              "1     Did they post their votes for Hillary already?      1  \n",
              "2   Now, most of the demonstrators gathered last ...      1  \n",
              "3  A dozen politically active pastors came here f...      0  \n",
              "4  The RS-28 Sarmat missile, dubbed Satan 2, will...      1  "
            ],
            "text/html": [
              "\n",
              "  <div id=\"df-4d8a7f29-6ee8-4a8f-a1b5-51451e77f433\">\n",
              "    <div class=\"colab-df-container\">\n",
              "      <div>\n",
              "<style scoped>\n",
              "    .dataframe tbody tr th:only-of-type {\n",
              "        vertical-align: middle;\n",
              "    }\n",
              "\n",
              "    .dataframe tbody tr th {\n",
              "        vertical-align: top;\n",
              "    }\n",
              "\n",
              "    .dataframe thead th {\n",
              "        text-align: right;\n",
              "    }\n",
              "</style>\n",
              "<table border=\"1\" class=\"dataframe\">\n",
              "  <thead>\n",
              "    <tr style=\"text-align: right;\">\n",
              "      <th></th>\n",
              "      <th>id</th>\n",
              "      <th>title</th>\n",
              "      <th>text</th>\n",
              "      <th>label</th>\n",
              "    </tr>\n",
              "  </thead>\n",
              "  <tbody>\n",
              "    <tr>\n",
              "      <th>0</th>\n",
              "      <td>0</td>\n",
              "      <td>LAW ENFORCEMENT ON HIGH ALERT Following Threat...</td>\n",
              "      <td>No comment is expected from Barack Obama Membe...</td>\n",
              "      <td>1</td>\n",
              "    </tr>\n",
              "    <tr>\n",
              "      <th>1</th>\n",
              "      <td>1</td>\n",
              "      <td>NaN</td>\n",
              "      <td>Did they post their votes for Hillary already?</td>\n",
              "      <td>1</td>\n",
              "    </tr>\n",
              "    <tr>\n",
              "      <th>2</th>\n",
              "      <td>2</td>\n",
              "      <td>UNBELIEVABLE! OBAMA’S ATTORNEY GENERAL SAYS MO...</td>\n",
              "      <td>Now, most of the demonstrators gathered last ...</td>\n",
              "      <td>1</td>\n",
              "    </tr>\n",
              "    <tr>\n",
              "      <th>3</th>\n",
              "      <td>3</td>\n",
              "      <td>Bobby Jindal, raised Hindu, uses story of Chri...</td>\n",
              "      <td>A dozen politically active pastors came here f...</td>\n",
              "      <td>0</td>\n",
              "    </tr>\n",
              "    <tr>\n",
              "      <th>4</th>\n",
              "      <td>4</td>\n",
              "      <td>SATAN 2: Russia unvelis an image of its terrif...</td>\n",
              "      <td>The RS-28 Sarmat missile, dubbed Satan 2, will...</td>\n",
              "      <td>1</td>\n",
              "    </tr>\n",
              "  </tbody>\n",
              "</table>\n",
              "</div>\n",
              "      <button class=\"colab-df-convert\" onclick=\"convertToInteractive('df-4d8a7f29-6ee8-4a8f-a1b5-51451e77f433')\"\n",
              "              title=\"Convert this dataframe to an interactive table.\"\n",
              "              style=\"display:none;\">\n",
              "        \n",
              "  <svg xmlns=\"http://www.w3.org/2000/svg\" height=\"24px\"viewBox=\"0 0 24 24\"\n",
              "       width=\"24px\">\n",
              "    <path d=\"M0 0h24v24H0V0z\" fill=\"none\"/>\n",
              "    <path d=\"M18.56 5.44l.94 2.06.94-2.06 2.06-.94-2.06-.94-.94-2.06-.94 2.06-2.06.94zm-11 1L8.5 8.5l.94-2.06 2.06-.94-2.06-.94L8.5 2.5l-.94 2.06-2.06.94zm10 10l.94 2.06.94-2.06 2.06-.94-2.06-.94-.94-2.06-.94 2.06-2.06.94z\"/><path d=\"M17.41 7.96l-1.37-1.37c-.4-.4-.92-.59-1.43-.59-.52 0-1.04.2-1.43.59L10.3 9.45l-7.72 7.72c-.78.78-.78 2.05 0 2.83L4 21.41c.39.39.9.59 1.41.59.51 0 1.02-.2 1.41-.59l7.78-7.78 2.81-2.81c.8-.78.8-2.07 0-2.86zM5.41 20L4 18.59l7.72-7.72 1.47 1.35L5.41 20z\"/>\n",
              "  </svg>\n",
              "      </button>\n",
              "      \n",
              "  <style>\n",
              "    .colab-df-container {\n",
              "      display:flex;\n",
              "      flex-wrap:wrap;\n",
              "      gap: 12px;\n",
              "    }\n",
              "\n",
              "    .colab-df-convert {\n",
              "      background-color: #E8F0FE;\n",
              "      border: none;\n",
              "      border-radius: 50%;\n",
              "      cursor: pointer;\n",
              "      display: none;\n",
              "      fill: #1967D2;\n",
              "      height: 32px;\n",
              "      padding: 0 0 0 0;\n",
              "      width: 32px;\n",
              "    }\n",
              "\n",
              "    .colab-df-convert:hover {\n",
              "      background-color: #E2EBFA;\n",
              "      box-shadow: 0px 1px 2px rgba(60, 64, 67, 0.3), 0px 1px 3px 1px rgba(60, 64, 67, 0.15);\n",
              "      fill: #174EA6;\n",
              "    }\n",
              "\n",
              "    [theme=dark] .colab-df-convert {\n",
              "      background-color: #3B4455;\n",
              "      fill: #D2E3FC;\n",
              "    }\n",
              "\n",
              "    [theme=dark] .colab-df-convert:hover {\n",
              "      background-color: #434B5C;\n",
              "      box-shadow: 0px 1px 3px 1px rgba(0, 0, 0, 0.15);\n",
              "      filter: drop-shadow(0px 1px 2px rgba(0, 0, 0, 0.3));\n",
              "      fill: #FFFFFF;\n",
              "    }\n",
              "  </style>\n",
              "\n",
              "      <script>\n",
              "        const buttonEl =\n",
              "          document.querySelector('#df-4d8a7f29-6ee8-4a8f-a1b5-51451e77f433 button.colab-df-convert');\n",
              "        buttonEl.style.display =\n",
              "          google.colab.kernel.accessAllowed ? 'block' : 'none';\n",
              "\n",
              "        async function convertToInteractive(key) {\n",
              "          const element = document.querySelector('#df-4d8a7f29-6ee8-4a8f-a1b5-51451e77f433');\n",
              "          const dataTable =\n",
              "            await google.colab.kernel.invokeFunction('convertToInteractive',\n",
              "                                                     [key], {});\n",
              "          if (!dataTable) return;\n",
              "\n",
              "          const docLinkHtml = 'Like what you see? Visit the ' +\n",
              "            '<a target=\"_blank\" href=https://colab.research.google.com/notebooks/data_table.ipynb>data table notebook</a>'\n",
              "            + ' to learn more about interactive tables.';\n",
              "          element.innerHTML = '';\n",
              "          dataTable['output_type'] = 'display_data';\n",
              "          await google.colab.output.renderOutput(dataTable, element);\n",
              "          const docLink = document.createElement('div');\n",
              "          docLink.innerHTML = docLinkHtml;\n",
              "          element.appendChild(docLink);\n",
              "        }\n",
              "      </script>\n",
              "    </div>\n",
              "  </div>\n",
              "  "
            ]
          },
          "metadata": {},
          "execution_count": 88
        }
      ]
    },
    {
      "cell_type": "code",
      "source": [
        "df.info()"
      ],
      "metadata": {
        "colab": {
          "base_uri": "https://localhost:8080/"
        },
        "id": "fhSnbMa31KNw",
        "outputId": "42d50196-cc59-4f5c-ac24-20adda595b2e"
      },
      "execution_count": null,
      "outputs": [
        {
          "output_type": "stream",
          "name": "stdout",
          "text": [
            "<class 'pandas.core.frame.DataFrame'>\n",
            "RangeIndex: 72134 entries, 0 to 72133\n",
            "Data columns (total 4 columns):\n",
            " #   Column  Non-Null Count  Dtype \n",
            "---  ------  --------------  ----- \n",
            " 0   id      72134 non-null  int64 \n",
            " 1   title   71576 non-null  object\n",
            " 2   text    72095 non-null  object\n",
            " 3   label   72134 non-null  int64 \n",
            "dtypes: int64(2), object(2)\n",
            "memory usage: 2.2+ MB\n"
          ]
        }
      ]
    },
    {
      "cell_type": "markdown",
      "source": [
        "# Preprocessing and feature extraction"
      ],
      "metadata": {
        "id": "6PT3P5zS1Oq-"
      }
    },
    {
      "cell_type": "code",
      "source": [
        "# read in our data and preprocess it\n",
        "\n",
        "df.drop(labels=['id','title'], axis='columns', inplace=True)\n"
      ],
      "metadata": {
        "id": "ZTN4mCMD1MIN"
      },
      "execution_count": null,
      "outputs": []
    },
    {
      "cell_type": "code",
      "source": [
        "df['text']"
      ],
      "metadata": {
        "colab": {
          "base_uri": "https://localhost:8080/"
        },
        "id": "HZOWHs3s1dbp",
        "outputId": "6e9269de-de85-4a46-afb1-167dd53a6e06"
      },
      "execution_count": null,
      "outputs": [
        {
          "output_type": "execute_result",
          "data": {
            "text/plain": [
              "0        No comment is expected from Barack Obama Membe...\n",
              "1           Did they post their votes for Hillary already?\n",
              "2         Now, most of the demonstrators gathered last ...\n",
              "3        A dozen politically active pastors came here f...\n",
              "4        The RS-28 Sarmat missile, dubbed Satan 2, will...\n",
              "                               ...                        \n",
              "72129    WASHINGTON (Reuters) - Hackers believed to be ...\n",
              "72130    You know, because in fantasyland Republicans n...\n",
              "72131    Migrants Refuse To Leave Train At Refugee Camp...\n",
              "72132    MEXICO CITY (Reuters) - Donald Trump’s combati...\n",
              "72133    Goldman Sachs Endorses Hillary Clinton For Pre...\n",
              "Name: text, Length: 72134, dtype: object"
            ]
          },
          "metadata": {},
          "execution_count": 91
        }
      ]
    },
    {
      "cell_type": "code",
      "source": [
        "df.dropna(subset = [\"text\"], inplace=True)"
      ],
      "metadata": {
        "id": "bmzMjEP91gBl"
      },
      "execution_count": null,
      "outputs": []
    },
    {
      "cell_type": "code",
      "source": [
        "# Removing stopwords\n",
        "\n",
        "from gensim.parsing.preprocessing import remove_stopwords\n",
        "def stopword_removal(row):\n",
        "    text = row['text']\n",
        "    text = remove_stopwords(text)\n",
        "    return text"
      ],
      "metadata": {
        "id": "lqjK9NTI1iTl"
      },
      "execution_count": null,
      "outputs": []
    },
    {
      "cell_type": "code",
      "source": [
        "df['text'] = df.apply(stopword_removal, axis=1)"
      ],
      "metadata": {
        "id": "FFAVCqZr1l-P"
      },
      "execution_count": null,
      "outputs": []
    },
    {
      "cell_type": "code",
      "source": [
        "# Converting text into smaller letters.\n",
        "\n",
        "df['text'] = df['text'].str.lower().str.replace('[^\\w\\s]',' ').str.replace('\\s\\s+', ' ')"
      ],
      "metadata": {
        "colab": {
          "base_uri": "https://localhost:8080/"
        },
        "id": "0lgSfWVs1pxi",
        "outputId": "95a30dd0-6ea1-4076-a693-742be2fc4b8a"
      },
      "execution_count": null,
      "outputs": [
        {
          "output_type": "stream",
          "name": "stderr",
          "text": [
            "<ipython-input-95-b3aba37379ec>:3: FutureWarning: The default value of regex will change from True to False in a future version.\n",
            "  df['text'] = df['text'].str.lower().str.replace('[^\\w\\s]',' ').str.replace('\\s\\s+', ' ')\n"
          ]
        }
      ]
    },
    {
      "cell_type": "code",
      "source": [
        "# prepare text samples and their labels\n",
        "\n",
        "texts = df['text']\n",
        "labels = df['label']\n",
        "\n",
        "print('Found %s texts.' %texts.shape[0])"
      ],
      "metadata": {
        "id": "qYPLeMJa1vgC",
        "outputId": "bde8a5f3-75e2-4fb5-9531-7a1b8418574b",
        "colab": {
          "base_uri": "https://localhost:8080/"
        }
      },
      "execution_count": null,
      "outputs": [
        {
          "output_type": "stream",
          "name": "stdout",
          "text": [
            "Found 72095 texts.\n"
          ]
        }
      ]
    },
    {
      "cell_type": "code",
      "source": [
        "texts = texts.fillna(\"\")"
      ],
      "metadata": {
        "id": "oNkKjE8n19JI"
      },
      "execution_count": null,
      "outputs": []
    },
    {
      "cell_type": "code",
      "source": [
        "# plot the distribution of article lengths in terms of word counts\n",
        "\n",
        "text_lengths = texts.apply(lambda x: len(x.split(\" \")))\n",
        "plt.hist(text_lengths)\n",
        "plt.show()"
      ],
      "metadata": {
        "colab": {
          "base_uri": "https://localhost:8080/",
          "height": 430
        },
        "id": "PNmgZUHw19xT",
        "outputId": "e41e7781-32e9-4040-b4c0-6081eae1c5de"
      },
      "execution_count": null,
      "outputs": [
        {
          "output_type": "display_data",
          "data": {
            "text/plain": [
              "<Figure size 640x480 with 1 Axes>"
            ],
            "image/png": "[encoded data removed]"
          },
          "metadata": {}
        }
      ]
    },
    {
      "cell_type": "code",
      "source": [
        "MAX_SEQUENCE_LENGTH = 700\n",
        "MAX_NUM_WORDS = 1000\n",
        "EMBEDDING_DIM = 64\n",
        "TEST_SPLIT = 0.2"
      ],
      "metadata": {
        "id": "bgl9cqbt2AJ5"
      },
      "execution_count": null,
      "outputs": []
    },
    {
      "cell_type": "code",
      "source": [
        "!pip install keras_preprocessing"
      ],
      "metadata": {
        "colab": {
          "base_uri": "https://localhost:8080/"
        },
        "id": "TZx8KXoh2FAu",
        "outputId": "b97c489c-f118-4880-a98b-b77fa429ce3e"
      },
      "execution_count": null,
      "outputs": [
        {
          "output_type": "stream",
          "name": "stdout",
          "text": [
            "Looking in indexes: https://pypi.org/simple, https://us-python.pkg.dev/colab-wheels/public/simple/\n",
            "Requirement already satisfied: keras_preprocessing in /usr/local/lib/python3.10/dist-packages (1.1.2)\n",
            "Requirement already satisfied: numpy>=1.9.1 in /usr/local/lib/python3.10/dist-packages (from keras_preprocessing) (1.22.4)\n",
            "Requirement already satisfied: six>=1.9.0 in /usr/local/lib/python3.10/dist-packages (from keras_preprocessing) (1.16.0)\n"
          ]
        }
      ]
    },
    {
      "cell_type": "code",
      "source": [
        "# vectorize the text samples into a 2D integer tensor \n",
        "\n",
        "from keras.preprocessing.text import Tokenizer\n",
        "from keras_preprocessing.sequence import pad_sequences\n",
        "\n",
        "\n",
        "# tokenizing sentences into words \n",
        "tokenizer = Tokenizer(num_words=MAX_NUM_WORDS)\n",
        "# using fit_on_texts method assigning values to particular words\n",
        "tokenizer.fit_on_texts(texts)\n",
        "# texts_to_sequences method is used to give particular integer values to word\n",
        "sequences = tokenizer.texts_to_sequences(texts)\n",
        "\n",
        "# calculating word_index\n",
        "word_index = tokenizer.word_index\n",
        "num_words = min(MAX_NUM_WORDS, len(word_index)) + 1\n",
        "# padding data to the same length for each samples\n",
        "data = pad_sequences(sequences, \n",
        "                     maxlen=MAX_SEQUENCE_LENGTH, \n",
        "                     padding='pre', \n",
        "                     truncating='pre')\n",
        "\n",
        "print('Found %s unique tokens.' % len(word_index))\n",
        "print('Shape of data tensor:', data.shape)\n",
        "print('Shape of label tensor:', labels.shape)"
      ],
      "metadata": {
        "colab": {
          "base_uri": "https://localhost:8080/"
        },
        "id": "en2QPpD62Hok",
        "outputId": "6c677bba-002b-41d3-f187-f5ea3c5e5c65"
      },
      "execution_count": null,
      "outputs": [
        {
          "output_type": "stream",
          "name": "stdout",
          "text": [
            "Found 242766 unique tokens.\n",
            "Shape of data tensor: (72095, 700)\n",
            "Shape of label tensor: (72095,)\n"
          ]
        }
      ]
    },
    {
      "cell_type": "markdown",
      "source": [
        "# Data Curation Phase"
      ],
      "metadata": {
        "id": "rmQ39F_02qP_"
      }
    },
    {
      "cell_type": "code",
      "source": [
        "# split the data into a training set and a validation set   \n",
        "\n",
        "from sklearn.model_selection import train_test_split\n",
        "\n",
        "\n",
        "\n",
        "x, x_test, y, y_test = train_test_split(data, \n",
        "                                        labels, \n",
        "                                        test_size=0.2)\n",
        "\n",
        "x_train, x_val, y_train, y_val = train_test_split(x,\n",
        "                                                  y, \n",
        "                                                  test_size=0.1)"
      ],
      "metadata": {
        "id": "KGZ5iH6h2MlE"
      },
      "execution_count": null,
      "outputs": []
    },
    {
      "cell_type": "code",
      "source": [
        "x_train.shape"
      ],
      "metadata": {
        "colab": {
          "base_uri": "https://localhost:8080/"
        },
        "id": "dvxwxY4c2Zr7",
        "outputId": "53457729-83b9-464f-9b3e-4ef0e229922e"
      },
      "execution_count": null,
      "outputs": [
        {
          "output_type": "execute_result",
          "data": {
            "text/plain": [
              "(51908, 700)"
            ]
          },
          "metadata": {},
          "execution_count": 103
        }
      ]
    },
    {
      "cell_type": "code",
      "source": [
        "x_val.shape"
      ],
      "metadata": {
        "colab": {
          "base_uri": "https://localhost:8080/"
        },
        "id": "vqXRCDkU2exD",
        "outputId": "7e06b4ae-c609-4d61-c57b-b3e68dc9eb28"
      },
      "execution_count": null,
      "outputs": [
        {
          "output_type": "execute_result",
          "data": {
            "text/plain": [
              "(5768, 700)"
            ]
          },
          "metadata": {},
          "execution_count": 104
        }
      ]
    },
    {
      "cell_type": "code",
      "source": [
        "x_test.shape"
      ],
      "metadata": {
        "colab": {
          "base_uri": "https://localhost:8080/"
        },
        "id": "QGrGVvhu2gyp",
        "outputId": "94d6001e-f274-4e69-a92d-63bcd05767d6"
      },
      "execution_count": null,
      "outputs": [
        {
          "output_type": "execute_result",
          "data": {
            "text/plain": [
              "(14419, 700)"
            ]
          },
          "metadata": {},
          "execution_count": 105
        }
      ]
    },
    {
      "cell_type": "markdown",
      "source": [
        "# Model Building Phase"
      ],
      "metadata": {
        "id": "nDZQvAOq2sR6"
      }
    },
    {
      "cell_type": "code",
      "source": [
        "from keras import layers\n",
        "from keras.models import Sequential\n",
        "from keras.layers import Embedding, Conv1D, MaxPooling1D, LSTM, Dense, Dropout\n",
        "from keras.optimizers import RMSprop\n",
        "\n",
        "#defining dropout layers\n",
        "dropout1 = 0.4\n",
        "dropout2 = 0.5\n",
        "num_classes = 1\n",
        "\n",
        "model = Sequential([\n",
        "    # part 1: word and sequence processing\n",
        "    # defining embedding layer where embedding dimension/ vector size is defined as 64 and input length is set as 700. Where num_words are unique words.\n",
        "    layers.Embedding(242766,\n",
        "              EMBEDDING_DIM,\n",
        "              input_length=MAX_SEQUENCE_LENGTH,\n",
        "              trainable=True), #although keras suggest to keep this value false to avoid weights getting updated during training phase, turning it true made a huge impact on model accuracy\n",
        "    # for defining convolutional layer, number of filters are set as 64 and kernal size is defined as 1 X 5.\n",
        "    layers.Conv1D(64, 5, activation='relu'),\n",
        "    # maxpooling1d layer is used to take maximum values from representation.\n",
        "    layers.MaxPooling1D(2),\n",
        "    # adding dropout 0.4\n",
        "    layers.Dropout(dropout1),\n",
        "\n",
        "     # creating second convolutional layer with kernal size 1 X 3, and number of filters will be 32. Where activation function will remain same as ReLU.    \n",
        "    layers.Conv1D(32, 3, activation='relu'),\n",
        "    # creating maxpooling layer with 2 neurons so that will compare with neighbour neuron and will take max value.\n",
        "    layers.MaxPooling1D(2, strides=2),\n",
        "    \n",
        "    #adding another Long Short Term Memory layer to help the model detect dependencies on the sequencial data with 64 units which is dimentionality of output space\n",
        "    layers.LSTM(64),\n",
        "\n",
        "    # part 2: classification\n",
        "  \n",
        "    # dense layer with 256 neurons and  Relu activation function.\n",
        "    layers.Dense(256, activation='relu'),\n",
        "    # dropout value is 0.5\n",
        "    layers.Dropout(dropout2),\n",
        "    # output layer contains 1 values because this is binary classification problem.\n",
        "    # Where activation function is 'sigmoid' because it will calculate probability of each nuerons individually and whichever nueron has highest value that will be selected.\n",
        "    layers.Dense(num_classes, activation='sigmoid')\n",
        "])\n",
        "\n",
        "# compiling the model with loss as categorical_crossentropy because this is multiclass classfication problem.\n",
        "model.compile(loss='binary_crossentropy',\n",
        "              optimizer='adam',\n",
        "              metrics=['accuracy'])\n",
        "\n",
        "model.summary()"
      ],
      "metadata": {
        "colab": {
          "base_uri": "https://localhost:8080/"
        },
        "id": "G4Lgyw1y2jbV",
        "outputId": "848afa70-08f1-4707-87fe-9dfac8b98c5a"
      },
      "execution_count": null,
      "outputs": [
        {
          "output_type": "stream",
          "name": "stdout",
          "text": [
            "Model: \"sequential_14\"\n",
            "_________________________________________________________________\n",
            " Layer (type)                Output Shape              Param #   \n",
            "=================================================================\n",
            " embedding_15 (Embedding)    (None, 700, 64)           15537024  \n",
            "                                                                 \n",
            " conv1d_30 (Conv1D)          (None, 696, 64)           20544     \n",
            "                                                                 \n",
            " max_pooling1d_30 (MaxPoolin  (None, 348, 64)          0         \n",
            " g1D)                                                            \n",
            "                                                                 \n",
            " dropout_34 (Dropout)        (None, 348, 64)           0         \n",
            "                                                                 \n",
            " conv1d_31 (Conv1D)          (None, 346, 32)           6176      \n",
            "                                                                 \n",
            " max_pooling1d_31 (MaxPoolin  (None, 173, 32)          0         \n",
            " g1D)                                                            \n",
            "                                                                 \n",
            " lstm_17 (LSTM)              (None, 64)                24832     \n",
            "                                                                 \n",
            " dense_28 (Dense)            (None, 256)               16640     \n",
            "                                                                 \n",
            " dropout_35 (Dropout)        (None, 256)               0         \n",
            "                                                                 \n",
            " dense_29 (Dense)            (None, 1)                 257       \n",
            "                                                                 \n",
            "=================================================================\n",
            "Total params: 15,605,473\n",
            "Trainable params: 15,605,473\n",
            "Non-trainable params: 0\n",
            "_________________________________________________________________\n"
          ]
        }
      ]
    },
    {
      "cell_type": "code",
      "source": [
        "# visalizing the layers of model.\n",
        "import tensorflow as tf\n",
        "\n",
        "tf.keras.utils.plot_model(\n",
        "model,\n",
        "to_file=\"model.png\",\n",
        "show_shapes=True,\n",
        "show_dtype=False,\n",
        "show_layer_names=True,\n",
        "rankdir=\"TB\",\n",
        "expand_nested=True,\n",
        "dpi=96,\n",
        "layer_range=None,\n",
        "show_layer_activations=True,\n",
        ")"
      ],
      "metadata": {
        "id": "n9lrF6qC28Ko"
      },
      "execution_count": null,
      "outputs": []
    },
    {
      "cell_type": "markdown",
      "source": [
        "# Model Training Phase"
      ],
      "metadata": {
        "id": "0d82-lSF2_gR"
      }
    },
    {
      "cell_type": "code",
      "source": [
        "# train the model with batch size of 128 and 15 epochs.\n",
        "import time as t\n",
        "start = t.time()\n",
        "history = model.fit(x_train, \n",
        "                    y_train,\n",
        "                    batch_size=128,\n",
        "                    epochs=25,\n",
        "                    validation_data=(x_val, y_val))\n",
        "\n",
        "print(\"total training time:\",t.time()-start)"
      ],
      "metadata": {
        "colab": {
          "base_uri": "https://localhost:8080/"
        },
        "id": "-noTGiPn287Y",
        "outputId": "ad1975f5-2ed7-4a1b-c752-3a4c81c74215"
      },
      "execution_count": null,
      "outputs": [
        {
          "output_type": "stream",
          "name": "stdout",
          "text": [
            "Epoch 1/25\n",
            "406/406 [==============================] - 10s 25ms/step - loss: 0.0443 - accuracy: 0.9837 - val_loss: 0.0980 - val_accuracy: 0.9674\n",
            "Epoch 2/25\n",
            "406/406 [==============================] - 10s 24ms/step - loss: 0.0341 - accuracy: 0.9880 - val_loss: 0.1102 - val_accuracy: 0.9655\n",
            "Epoch 3/25\n",
            "406/406 [==============================] - 9s 23ms/step - loss: 0.0309 - accuracy: 0.9892 - val_loss: 0.1104 - val_accuracy: 0.9690\n",
            "Epoch 4/25\n",
            "406/406 [==============================] - 9s 22ms/step - loss: 0.0251 - accuracy: 0.9915 - val_loss: 0.1240 - val_accuracy: 0.9664\n",
            "Epoch 5/25\n",
            "406/406 [==============================] - 10s 24ms/step - loss: 0.0228 - accuracy: 0.9921 - val_loss: 0.1106 - val_accuracy: 0.9710\n",
            "Epoch 6/25\n",
            "406/406 [==============================] - 10s 24ms/step - loss: 0.0197 - accuracy: 0.9927 - val_loss: 0.1188 - val_accuracy: 0.9678\n",
            "Epoch 7/25\n",
            "406/406 [==============================] - 9s 23ms/step - loss: 0.0183 - accuracy: 0.9930 - val_loss: 0.1314 - val_accuracy: 0.9674\n",
            "Epoch 8/25\n",
            "406/406 [==============================] - 10s 24ms/step - loss: 0.0163 - accuracy: 0.9942 - val_loss: 0.1233 - val_accuracy: 0.9665\n",
            "Epoch 9/25\n",
            "406/406 [==============================] - 10s 24ms/step - loss: 0.0145 - accuracy: 0.9949 - val_loss: 0.1320 - val_accuracy: 0.9679\n",
            "Epoch 10/25\n",
            "406/406 [==============================] - 9s 23ms/step - loss: 0.0124 - accuracy: 0.9958 - val_loss: 0.1580 - val_accuracy: 0.9678\n",
            "Epoch 11/25\n",
            "406/406 [==============================] - 9s 23ms/step - loss: 0.0124 - accuracy: 0.9959 - val_loss: 0.1579 - val_accuracy: 0.9691\n",
            "Epoch 12/25\n",
            "406/406 [==============================] - 10s 24ms/step - loss: 0.0123 - accuracy: 0.9957 - val_loss: 0.1724 - val_accuracy: 0.9660\n",
            "Epoch 13/25\n",
            "406/406 [==============================] - 10s 24ms/step - loss: 0.0108 - accuracy: 0.9965 - val_loss: 0.1582 - val_accuracy: 0.9681\n",
            "Epoch 14/25\n",
            "406/406 [==============================] - 9s 23ms/step - loss: 0.0104 - accuracy: 0.9964 - val_loss: 0.1749 - val_accuracy: 0.9672\n",
            "Epoch 15/25\n",
            "406/406 [==============================] - 9s 23ms/step - loss: 0.0106 - accuracy: 0.9963 - val_loss: 0.1455 - val_accuracy: 0.9686\n",
            "Epoch 16/25\n",
            "406/406 [==============================] - 9s 23ms/step - loss: 0.0109 - accuracy: 0.9963 - val_loss: 0.1590 - val_accuracy: 0.9693\n",
            "Epoch 17/25\n",
            "406/406 [==============================] - 9s 22ms/step - loss: 0.0098 - accuracy: 0.9967 - val_loss: 0.1593 - val_accuracy: 0.9709\n",
            "Epoch 18/25\n",
            "406/406 [==============================] - 10s 24ms/step - loss: 0.0100 - accuracy: 0.9966 - val_loss: 0.1572 - val_accuracy: 0.9697\n",
            "Epoch 19/25\n",
            "406/406 [==============================] - 10s 24ms/step - loss: 0.0092 - accuracy: 0.9966 - val_loss: 0.1362 - val_accuracy: 0.9698\n",
            "Epoch 20/25\n",
            "406/406 [==============================] - 10s 24ms/step - loss: 0.0069 - accuracy: 0.9976 - val_loss: 0.1832 - val_accuracy: 0.9686\n",
            "Epoch 21/25\n",
            "406/406 [==============================] - 9s 23ms/step - loss: 0.0083 - accuracy: 0.9971 - val_loss: 0.1675 - val_accuracy: 0.9704\n",
            "Epoch 22/25\n",
            "406/406 [==============================] - 10s 24ms/step - loss: 0.0091 - accuracy: 0.9971 - val_loss: 0.1514 - val_accuracy: 0.9709\n",
            "Epoch 23/25\n",
            "406/406 [==============================] - 10s 24ms/step - loss: 0.0074 - accuracy: 0.9976 - val_loss: 0.1661 - val_accuracy: 0.9717\n",
            "Epoch 24/25\n",
            "406/406 [==============================] - 9s 22ms/step - loss: 0.0075 - accuracy: 0.9974 - val_loss: 0.1705 - val_accuracy: 0.9714\n",
            "Epoch 25/25\n",
            "406/406 [==============================] - 10s 26ms/step - loss: 0.0073 - accuracy: 0.9975 - val_loss: 0.1705 - val_accuracy: 0.9728\n",
            "total training time: 262.18673515319824\n"
          ]
        }
      ]
    },
    {
      "cell_type": "code",
      "source": [
        "!pip install keras_flops"
      ],
      "metadata": {
        "id": "M8AydPaS3OdL"
      },
      "execution_count": null,
      "outputs": []
    },
    {
      "cell_type": "code",
      "source": [
        "from tensorflow.python.framework.convert_to_constants import convert_variables_to_constants_v2_as_graph"
      ],
      "metadata": {
        "id": "vzAIgUC96ZTy"
      },
      "execution_count": null,
      "outputs": []
    },
    {
      "cell_type": "code",
      "source": [
        "def get_flops(model, batch_size=None):\n",
        "    if batch_size is None:\n",
        "        batch_size = 1\n",
        "\n",
        "    real_model = tf.function(model).get_concrete_function(tf.TensorSpec([batch_size] + model.inputs[0].shape[1:], model.inputs[0].dtype))\n",
        "    frozen_func, graph_def = convert_variables_to_constants_v2_as_graph(real_model)\n",
        "\n",
        "    run_meta = tf.compat.v1.RunMetadata()\n",
        "    opts = tf.compat.v1.profiler.ProfileOptionBuilder.float_operation()\n",
        "    flops = tf.compat.v1.profiler.profile(graph=frozen_func.graph,\n",
        "                                            run_meta=run_meta, cmd='op', options=opts)\n",
        "    return flops.total_float_ops"
      ],
      "metadata": {
        "id": "2MC7Pftj6b21"
      },
      "execution_count": null,
      "outputs": []
    },
    {
      "cell_type": "code",
      "source": [
        "# calculating flops\n",
        "flops = get_flops(model, batch_size = 128)\n",
        "print(flops)\n",
        "print(f\"FLOPS: {flops / 10 ** 9:.03} G \")"
      ],
      "metadata": {
        "colab": {
          "base_uri": "https://localhost:8080/"
        },
        "id": "LPQayz8Q6eXb",
        "outputId": "1f8a6d30-8882-4fa6-eee7-c6bab19259c1"
      },
      "execution_count": null,
      "outputs": [
        {
          "output_type": "stream",
          "name": "stdout",
          "text": [
            "4211785856\n",
            "FLOPS: 4.21 G \n"
          ]
        }
      ]
    },
    {
      "cell_type": "code",
      "source": [
        "# Plot training & validation accuracy values\n",
        "\n",
        "plt.plot(history.history['val_loss'])\n",
        "plt.plot(history.history['loss'])\n",
        "plt.title('Model Loss ')\n",
        "plt.ylabel('Loss')\n",
        "plt.xlabel('Epochs')\n",
        "plt.legend(['Validation loss', 'Training loss'], loc='upper left')\n",
        "plt.show()"
      ],
      "metadata": {
        "colab": {
          "base_uri": "https://localhost:8080/",
          "height": 472
        },
        "id": "gtfYhv9m6g92",
        "outputId": "bfeb1688-53a5-40d5-bca9-e9c90ebab0e7"
      },
      "execution_count": null,
      "outputs": [
        {
          "output_type": "display_data",
          "data": {
            "text/plain": [
              "<Figure size 640x480 with 1 Axes>"
            ],
            "image/png": "[encoded data removed]"
          },
          "metadata": {}
        }
      ]
    },
    {
      "cell_type": "code",
      "source": [
        "# Plot training & validation accuracy values\n",
        "\n",
        "plt.plot(history.history['accuracy'])\n",
        "plt.plot(history.history['val_accuracy'])\n",
        "plt.title('Model accuracy')\n",
        "plt.ylabel('Accuracy')\n",
        "plt.xlabel('Epoch')\n",
        "plt.legend(['Train', 'Validation'], loc='upper left')\n",
        "plt.show()"
      ],
      "metadata": {
        "colab": {
          "base_uri": "https://localhost:8080/",
          "height": 472
        },
        "id": "TERGWif86kCW",
        "outputId": "d9910b7a-d20d-4b5b-b7ff-3d82234bd38f"
      },
      "execution_count": null,
      "outputs": [
        {
          "output_type": "display_data",
          "data": {
            "text/plain": [
              "<Figure size 640x480 with 1 Axes>"
            ],
            "image/png": "[encoded data removed]"
          },
          "metadata": {}
        }
      ]
    },
    {
      "cell_type": "markdown",
      "source": [
        "# Testing Phase"
      ],
      "metadata": {
        "id": "Zjgfq_IE7Kpd"
      }
    },
    {
      "cell_type": "code",
      "source": [
        "print(\"Evaluate on test data\")\n",
        "results = model.evaluate(x_test, y_test)\n",
        "print(\"test loss, test acc:\", results)"
      ],
      "metadata": {
        "colab": {
          "base_uri": "https://localhost:8080/"
        },
        "id": "nDz7se086l-O",
        "outputId": "83ad6ed6-7bb0-420f-b7d0-25fb12e29a14"
      },
      "execution_count": null,
      "outputs": [
        {
          "output_type": "stream",
          "name": "stdout",
          "text": [
            "Evaluate on test data\n",
            "451/451 [==============================] - 2s 5ms/step - loss: 0.1767 - accuracy: 0.9700\n",
            "test loss, test acc: [0.17674410343170166, 0.9700395464897156]\n"
          ]
        }
      ]
    },
    {
      "cell_type": "code",
      "source": [
        "# Plot training & validation accuracy values\n",
        "\n",
        "plt.plot(history.history['loss'])\n",
        "plt.plot(history.history['val_loss'])\n",
        "plt.plot(history.history['accuracy'])\n",
        "plt.plot(history.history['val_accuracy'])\n",
        "\n",
        "plt.title('Model accuracy')\n",
        "plt.ylabel('Accuracy')\n",
        "plt.xlabel('Epoch')\n",
        "plt.legend(['Training loss', 'Validation loss','Training Accuracy','Validation Accuracy'], loc='upper left')\n",
        "plt.show()"
      ],
      "metadata": {
        "colab": {
          "base_uri": "https://localhost:8080/",
          "height": 472
        },
        "id": "pfJ8IhwX6oeN",
        "outputId": "d94c3080-36a6-45f1-f3aa-b18dccc6854b"
      },
      "execution_count": null,
      "outputs": [
        {
          "output_type": "display_data",
          "data": {
            "text/plain": [
              "<Figure size 640x480 with 1 Axes>"
            ],
            "image/png": "[encoded data removed]"
          },
          "metadata": {}
        }
      ]
    },
    {
      "cell_type": "markdown",
      "source": [
        "# Evaluation Phase"
      ],
      "metadata": {
        "id": "BNyjbPKk7OlZ"
      }
    },
    {
      "cell_type": "code",
      "source": [
        "# define a function that allows us to evaluate models\n",
        "\n",
        "from sklearn.metrics import accuracy_score,roc_auc_score,precision_score,recall_score,classification_report,roc_curve\n",
        "\n",
        "\n",
        "\n",
        "def evaluate_model(predict_fun, X_train, y_train, X_test, y_test):\n",
        "    '''\n",
        "    evaluate the model, both training and testing accuraries are reported\n",
        "    '''\n",
        "    # training acc\n",
        "    y_predict_train = predict_fun(X_train)\n",
        "    train_acc = accuracy_score(y_train,y_predict_train)\n",
        "    \n",
        "    # testing acc\n",
        "    y_predict_test = predict_fun(X_test)\n",
        "    test_acc = accuracy_score(y_test,y_predict_test)\n",
        "    \n",
        "\n",
        "    # accuracy = accuracy_score(y_test,y_pred_tex)\n",
        "    roc_auc =roc_auc_score(y_test, y_predict_test)\n",
        "    precision = precision_score(y_pred=y_predict_test, y_true=y_test,zero_division=1)\n",
        "    recall = recall_score(y_pred=y_predict_test, y_true=y_test,zero_division=1)\n",
        "    \n",
        "    cr = classification_report(y_test, y_predict_test,zero_division=1)\n",
        "\n",
        "\n",
        "    fpr, tpr, threshold = roc_curve(y_test, y_predict_test)\n",
        "    plt.plot([0,1], [0,1], 'k--')\n",
        "    plt.plot(fpr, tpr, label= 'CNN')\n",
        "    plt.xlabel('False Positive Rate',fontsize=12)\n",
        "    plt.ylabel('True Positive Rate',fontsize=12)\n",
        "    plt.title('%s ROC Curve'% 'CNN',fontsize=20)\n",
        "    plt.legend(fontsize=12)\n",
        "    plt.show()\n",
        "\n",
        "    roc_auc_sc = roc_auc_score(y_test,y_predict_test)\n",
        "\n",
        "    return train_acc, test_acc,cr,roc_auc_sc"
      ],
      "metadata": {
        "id": "8kWRdZv16vHu"
      },
      "execution_count": null,
      "outputs": []
    },
    {
      "cell_type": "code",
      "source": [
        "# evaluate model\n",
        "import time as t\n",
        "start = t.time()\n",
        "train_acc, test_acc,cr,roc_auc_sc = evaluate_model(lambda x: np.rint(model.predict(x)),\n",
        "                                     x_train, \n",
        "                                     y_train, \n",
        "                                     x_test, \n",
        "                                     y_test)\n",
        "print(\"Training Accuracy: {:.2f}%\".format(train_acc*100))\n",
        "print(\"Testing Accuracy: {:.2f}%\".format(test_acc*100))\n",
        "print(\"Classification Report:\\n\",cr)\n",
        "print(\"AUC score\",roc_auc_sc)\n",
        "print(\"Total time required for testing\",t.time()-start)"
      ],
      "metadata": {
        "colab": {
          "base_uri": "https://localhost:8080/",
          "height": 762
        },
        "id": "bQN-AEZc6x1E",
        "outputId": "6b0cb363-7fce-4925-898f-42f80cd3b892"
      },
      "execution_count": null,
      "outputs": [
        {
          "output_type": "stream",
          "name": "stdout",
          "text": [
            "1623/1623 [==============================] - 7s 4ms/step\n",
            "451/451 [==============================] - 2s 4ms/step\n"
          ]
        },
        {
          "output_type": "display_data",
          "data": {
            "text/plain": [
              "<Figure size 640x480 with 1 Axes>"
            ],
            "image/png": "[encoded data removed]"
          },
          "metadata": {}
        },
        {
          "output_type": "stream",
          "name": "stdout",
          "text": [
            "Training Accuracy: 99.98%\n",
            "Testing Accuracy: 97.00%\n",
            "Classification Report:\n",
            "               precision    recall  f1-score   support\n",
            "\n",
            "           0       0.97      0.97      0.97      7060\n",
            "           1       0.97      0.97      0.97      7359\n",
            "\n",
            "    accuracy                           0.97     14419\n",
            "   macro avg       0.97      0.97      0.97     14419\n",
            "weighted avg       0.97      0.97      0.97     14419\n",
            "\n",
            "AUC score 0.9699662146946157\n",
            "Total time required for testing 10.514982223510742\n"
          ]
        }
      ]
    }
  ]
}